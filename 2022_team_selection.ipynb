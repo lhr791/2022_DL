{
  "nbformat": 4,
  "nbformat_minor": 0,
  "metadata": {
    "kernelspec": {
      "display_name": "Python 3",
      "language": "python",
      "name": "python3"
    },
    "language_info": {
      "codemirror_mode": {
        "name": "ipython",
        "version": 3
      },
      "file_extension": ".py",
      "mimetype": "text/x-python",
      "name": "python",
      "nbconvert_exporter": "python",
      "pygments_lexer": "ipython3",
      "version": "3.6.5"
    },
    "colab": {
      "name": "2022 team_selection.ipynb",
      "provenance": [],
      "collapsed_sections": [],
      "include_colab_link": true
    }
  },
  "cells": [
    {
      "cell_type": "markdown",
      "metadata": {
        "id": "view-in-github",
        "colab_type": "text"
      },
      "source": [
        "<a href=\"https://colab.research.google.com/github/lhr791/2022_DL/blob/main/2022_team_selection.ipynb\" target=\"_parent\"><img src=\"https://colab.research.google.com/assets/colab-badge.svg\" alt=\"Open In Colab\"/></a>"
      ]
    },
    {
      "cell_type": "code",
      "metadata": {
        "id": "ByqylZ0ongv9"
      },
      "source": [
        "str1 = \"\"\"고재석\n",
        "굴나라기마데바\n",
        "권예진\n",
        "김가은\n",
        "김성연\n",
        "김유진\n",
        "김은서\n",
        "김준원\n",
        "김지민\n",
        "김진재\n",
        "김진현\n",
        "김찬호\n",
        "김효진\n",
        "김희영\n",
        "놀웬피지언\n",
        "문민지\n",
        "문희경\n",
        "박도희\n",
        "박상우\n",
        "박정현\n",
        "박진수\n",
        "서민성\n",
        "서은서\n",
        "서진슬\n",
        "성민지\n",
        "신세희\n",
        "안형주\n",
        "유나현\n",
        "유승희\n",
        "유현우\n",
        "윤우성\n",
        "윤한세\n",
        "이강희\n",
        "이건이\n",
        "이서정\n",
        "이승욱\n",
        "이윤혁\n",
        "이주현\n",
        "이채현\n",
        "이호연\n",
        "이호용\n",
        "임양강\n",
        "임혁\n",
        "장효정\n",
        "정은재\n",
        "제레미게르트\n",
        "조강현\n",
        "조용운\n",
        "조찬희\n",
        "지민경\n",
        "지서영\n",
        "한혜령\n",
        "허군\n",
        "\"\"\""
      ],
      "execution_count": 1,
      "outputs": []
    },
    {
      "cell_type": "code",
      "source": [
        "type(str1)"
      ],
      "metadata": {
        "colab": {
          "base_uri": "https://localhost:8080/"
        },
        "id": "5RV9km0JR5iv",
        "outputId": "1727ba4c-3132-4879-f846-b75fa7e00c89"
      },
      "execution_count": 7,
      "outputs": [
        {
          "output_type": "execute_result",
          "data": {
            "text/plain": [
              "str"
            ]
          },
          "metadata": {},
          "execution_count": 7
        }
      ]
    },
    {
      "cell_type": "code",
      "metadata": {
        "id": "S3qXgAEPngwE"
      },
      "source": [
        "nms = str1.split()"
      ],
      "execution_count": 9,
      "outputs": []
    },
    {
      "cell_type": "code",
      "source": [
        "type(nms)"
      ],
      "metadata": {
        "colab": {
          "base_uri": "https://localhost:8080/"
        },
        "id": "a3BTiwa2SQHu",
        "outputId": "490143f7-e898-4e70-d5d5-46d2ef0f5876"
      },
      "execution_count": 10,
      "outputs": [
        {
          "output_type": "execute_result",
          "data": {
            "text/plain": [
              "list"
            ]
          },
          "metadata": {},
          "execution_count": 10
        }
      ]
    },
    {
      "cell_type": "code",
      "metadata": {
        "id": "jz4KSLNEngwF",
        "colab": {
          "base_uri": "https://localhost:8080/"
        },
        "outputId": "bb24a1f7-78c2-4d4b-db23-29ec288a859d"
      },
      "source": [
        "nms"
      ],
      "execution_count": 3,
      "outputs": [
        {
          "output_type": "execute_result",
          "data": {
            "text/plain": [
              "['고재석',\n",
              " '굴나라기마데바',\n",
              " '권예진',\n",
              " '김가은',\n",
              " '김성연',\n",
              " '김유진',\n",
              " '김은서',\n",
              " '김준원',\n",
              " '김지민',\n",
              " '김진재',\n",
              " '김진현',\n",
              " '김찬호',\n",
              " '김효진',\n",
              " '김희영',\n",
              " '놀웬피지언',\n",
              " '문민지',\n",
              " '문희경',\n",
              " '박도희',\n",
              " '박상우',\n",
              " '박정현',\n",
              " '박진수',\n",
              " '서민성',\n",
              " '서은서',\n",
              " '서진슬',\n",
              " '성민지',\n",
              " '신세희',\n",
              " '안형주',\n",
              " '유나현',\n",
              " '유승희',\n",
              " '유현우',\n",
              " '윤우성',\n",
              " '윤한세',\n",
              " '이강희',\n",
              " '이건이',\n",
              " '이서정',\n",
              " '이승욱',\n",
              " '이윤혁',\n",
              " '이주현',\n",
              " '이채현',\n",
              " '이호연',\n",
              " '이호용',\n",
              " '임양강',\n",
              " '임혁',\n",
              " '장효정',\n",
              " '정은재',\n",
              " '제레미게르트',\n",
              " '조강현',\n",
              " '조용운',\n",
              " '조찬희',\n",
              " '지민경',\n",
              " '지서영',\n",
              " '한혜령',\n",
              " '허군']"
            ]
          },
          "metadata": {},
          "execution_count": 3
        }
      ]
    },
    {
      "cell_type": "code",
      "metadata": {
        "id": "MGKkOAipngwH"
      },
      "source": [
        "import numpy as np\n",
        "nms = np.array(nms)"
      ],
      "execution_count": 11,
      "outputs": []
    },
    {
      "cell_type": "code",
      "metadata": {
        "id": "lER9zSydoOv3",
        "colab": {
          "base_uri": "https://localhost:8080/"
        },
        "outputId": "57a02269-ec96-4388-a10a-55ca7e80b2d0"
      },
      "source": [
        "len(nms)"
      ],
      "execution_count": 12,
      "outputs": [
        {
          "output_type": "execute_result",
          "data": {
            "text/plain": [
              "53"
            ]
          },
          "metadata": {},
          "execution_count": 12
        }
      ]
    },
    {
      "cell_type": "markdown",
      "metadata": {
        "id": "xaVnjFPwngwI"
      },
      "source": [
        "## International students"
      ]
    },
    {
      "cell_type": "code",
      "metadata": {
        "id": "Ga9nWC3CngwI"
      },
      "source": [
        "nms1 = [ '굴나라기마데바', '놀웬피지언', '이호연', '임양강', '제레미게르트', '허군' ]   ## "
      ],
      "execution_count": 13,
      "outputs": []
    },
    {
      "cell_type": "code",
      "source": [
        "len(nms1)"
      ],
      "metadata": {
        "id": "p_wMbG3n6M-B",
        "outputId": "108a7075-4816-4a68-c6d7-52cf6672abc1",
        "colab": {
          "base_uri": "https://localhost:8080/"
        }
      },
      "execution_count": 14,
      "outputs": [
        {
          "output_type": "execute_result",
          "data": {
            "text/plain": [
              "6"
            ]
          },
          "metadata": {},
          "execution_count": 14
        }
      ]
    },
    {
      "cell_type": "code",
      "source": [
        "len(nms) - len(nms1)"
      ],
      "metadata": {
        "colab": {
          "base_uri": "https://localhost:8080/"
        },
        "id": "9zopFT6gSsC8",
        "outputId": "cbed9167-1f20-46f2-91e2-a8c3524493ae"
      },
      "execution_count": 24,
      "outputs": [
        {
          "output_type": "execute_result",
          "data": {
            "text/plain": [
              "47"
            ]
          },
          "metadata": {},
          "execution_count": 24
        }
      ]
    },
    {
      "cell_type": "code",
      "source": [
        "len(set(nms) - set(nms1))"
      ],
      "metadata": {
        "id": "mAaephpg6SEV",
        "outputId": "7f057a4b-29be-4b1d-c3b7-0a8ff0cf2c1e",
        "colab": {
          "base_uri": "https://localhost:8080/"
        }
      },
      "execution_count": 15,
      "outputs": [
        {
          "output_type": "execute_result",
          "data": {
            "text/plain": [
              "47"
            ]
          },
          "metadata": {},
          "execution_count": 15
        }
      ]
    },
    {
      "cell_type": "markdown",
      "metadata": {
        "id": "E7XbgXCgngwJ"
      },
      "source": [
        "## Students from other departments\n"
      ]
    },
    {
      "cell_type": "code",
      "metadata": {
        "id": "_DvgxbwJngwJ"
      },
      "source": [
        "nms2 = ['김유진', '김은서','김준원', '문희경','박도희','유현우','이주현']"
      ],
      "execution_count": 16,
      "outputs": []
    },
    {
      "cell_type": "code",
      "source": [
        "len(nms2)"
      ],
      "metadata": {
        "id": "n-FoEnyN6aSk",
        "outputId": "f1e01a64-17cf-4164-f34c-efd6ba0b7f5a",
        "colab": {
          "base_uri": "https://localhost:8080/"
        }
      },
      "execution_count": 17,
      "outputs": [
        {
          "output_type": "execute_result",
          "data": {
            "text/plain": [
              "7"
            ]
          },
          "metadata": {},
          "execution_count": 17
        }
      ]
    },
    {
      "cell_type": "code",
      "source": [
        "len(set(nms) - set(nms2))"
      ],
      "metadata": {
        "id": "PVEsJys_6X4V",
        "outputId": "2490a9cf-5f1d-431a-b13b-2073fb87d6e6",
        "colab": {
          "base_uri": "https://localhost:8080/"
        }
      },
      "execution_count": 46,
      "outputs": [
        {
          "output_type": "execute_result",
          "data": {
            "text/plain": [
              "46"
            ]
          },
          "metadata": {},
          "execution_count": 46
        }
      ]
    },
    {
      "cell_type": "markdown",
      "metadata": {
        "id": "oxoDRpEbngwK"
      },
      "source": [
        "## Other students"
      ]
    },
    {
      "cell_type": "code",
      "metadata": {
        "id": "acK7gWipngwL"
      },
      "source": [
        "nms3 = list(set(nms) - set(nms1) - set(nms2) )"
      ],
      "execution_count": 19,
      "outputs": []
    },
    {
      "cell_type": "code",
      "metadata": {
        "id": "LeG9iupgngwL",
        "colab": {
          "base_uri": "https://localhost:8080/"
        },
        "outputId": "ffe3ac0a-46d4-4c8f-f796-2953688c37ef"
      },
      "source": [
        "len(nms3) "
      ],
      "execution_count": 44,
      "outputs": [
        {
          "output_type": "execute_result",
          "data": {
            "text/plain": [
              "40"
            ]
          },
          "metadata": {},
          "execution_count": 44
        }
      ]
    },
    {
      "cell_type": "markdown",
      "metadata": {
        "id": "7Jt23mUIngwM"
      },
      "source": [
        "## Algorithm\n",
        "\n",
        "Random selection with following restrictions:\n",
        " - The number of international students and students from other departments should not exceed two for each team. \n",
        " \n"
      ]
    },
    {
      "cell_type": "code",
      "source": [
        "##All students: nms\n",
        "##international students: nms1\n",
        "##Students from other departments: nms2\n",
        "##all students - international students - Students from other departments = nms3"
      ],
      "metadata": {
        "id": "olOoDVxMTBZL"
      },
      "execution_count": 25,
      "outputs": []
    },
    {
      "cell_type": "code",
      "source": [
        "print(len(set(nms1) | set(nms2)))\n",
        "print(len(nms3))"
      ],
      "metadata": {
        "colab": {
          "base_uri": "https://localhost:8080/"
        },
        "id": "0tln6X1aVQkp",
        "outputId": "5fb690ef-b0ee-41bb-8a32-cfa0e8f4f035"
      },
      "execution_count": 55,
      "outputs": [
        {
          "output_type": "stream",
          "name": "stdout",
          "text": [
            "13\n",
            "40\n"
          ]
        }
      ]
    },
    {
      "cell_type": "code",
      "source": [
        "40/13"
      ],
      "metadata": {
        "colab": {
          "base_uri": "https://localhost:8080/"
        },
        "id": "rPHSrYmLV_j-",
        "outputId": "e6967d2e-64d6-43e8-d733-3acba506afad"
      },
      "execution_count": 56,
      "outputs": [
        {
          "output_type": "execute_result",
          "data": {
            "text/plain": [
              "3.076923076923077"
            ]
          },
          "metadata": {},
          "execution_count": 56
        }
      ]
    },
    {
      "cell_type": "code",
      "source": [
        "shuffled_nms1 = np.random.choice(nms1,len(nms1), replace = False )\n",
        "shuffled_nms1"
      ],
      "metadata": {
        "id": "zzbq42X38UHu",
        "outputId": "84578f31-facf-4d25-82b1-cfabd81062d5",
        "colab": {
          "base_uri": "https://localhost:8080/"
        }
      },
      "execution_count": 30,
      "outputs": [
        {
          "output_type": "execute_result",
          "data": {
            "text/plain": [
              "array(['임양강', '굴나라기마데바', '제레미게르트', '놀웬피지언', '허군', '이호연'], dtype='<U7')"
            ]
          },
          "metadata": {},
          "execution_count": 30
        }
      ]
    },
    {
      "cell_type": "code",
      "source": [
        "shuffled_nms2 = np.random.choice(nms2,len(nms2), replace = False )\n",
        "shuffled_nms2"
      ],
      "metadata": {
        "id": "TYT1gtdN8gtE",
        "outputId": "a3ec9c59-4e1d-4423-c6f4-e91074a17834",
        "colab": {
          "base_uri": "https://localhost:8080/"
        }
      },
      "execution_count": 31,
      "outputs": [
        {
          "output_type": "execute_result",
          "data": {
            "text/plain": [
              "array(['박도희', '김준원', '김유진', '김은서', '이주현', '유현우', '문희경'], dtype='<U3')"
            ]
          },
          "metadata": {},
          "execution_count": 31
        }
      ]
    },
    {
      "cell_type": "code",
      "source": [
        "shuffled_nms3 = np.random.choice(nms3,len(nms3), replace = False )\n",
        "shuffled_nms3"
      ],
      "metadata": {
        "id": "0L-kj7M2-Mlr",
        "colab": {
          "base_uri": "https://localhost:8080/"
        },
        "outputId": "e19c04b1-cb1f-4330-e223-021b3a4e8c1e"
      },
      "execution_count": 32,
      "outputs": [
        {
          "output_type": "execute_result",
          "data": {
            "text/plain": [
              "array(['지민경', '고재석', '윤우성', '한혜령', '김지민', '이서정', '서진슬', '이승욱', '이강희',\n",
              "       '박상우', '이건이', '지서영', '박진수', '김희영', '임혁', '이윤혁', '윤한세', '김찬호',\n",
              "       '유나현', '박정현', '김성연', '이채현', '이호용', '정은재', '김가은', '안형주', '조용운',\n",
              "       '서은서', '유승희', '성민지', '장효정', '문민지', '서민성', '신세희', '김진현', '권예진',\n",
              "       '김효진', '조찬희', '조강현', '김진재'], dtype='<U3')"
            ]
          },
          "metadata": {},
          "execution_count": 32
        }
      ]
    },
    {
      "cell_type": "code",
      "source": [
        "Gs = {}\n",
        "tnames = [\"Alpha\", \"Beta\", \"Captain\", \"Delta\", \"Edison\", \"Flower\", \"Giant\", \"Happy\", \"Identity\", \"Joy\", \"Keras\", \"Log\", \"Math\"]\n",
        "for i in range(13) :\n",
        "  if i < 7 :\n",
        "    Gs[tnames[i]] = [shuffled_nms2[i], *shuffled_nms3[(3*i):(3*(i+1))] ]\n",
        "  elif i < 12 :\n",
        "    Gs[tnames[i]] = [shuffled_nms1[i-7], *shuffled_nms3[(3*i):(3*(i+1))] ]\n",
        "  else : \n",
        "    Gs[tnames[i]] = [shuffled_nms1[i-7], *shuffled_nms3[(3*i):] ]\n",
        "\n"
      ],
      "metadata": {
        "id": "NZT0k67Sl7GM"
      },
      "execution_count": 42,
      "outputs": []
    },
    {
      "cell_type": "code",
      "source": [
        "Gs"
      ],
      "metadata": {
        "colab": {
          "base_uri": "https://localhost:8080/"
        },
        "id": "0GoBxEZkUx7Y",
        "outputId": "28ea375a-670d-4cdc-a861-b1081c15d169"
      },
      "execution_count": 43,
      "outputs": [
        {
          "output_type": "execute_result",
          "data": {
            "text/plain": [
              "{'Alpha': ['박도희', '지민경', '고재석', '윤우성'],\n",
              " 'Beta': ['김준원', '한혜령', '김지민', '이서정'],\n",
              " 'Captain': ['김유진', '서진슬', '이승욱', '이강희'],\n",
              " 'Delta': ['김은서', '박상우', '이건이', '지서영'],\n",
              " 'Edison': ['이주현', '박진수', '김희영', '임혁'],\n",
              " 'Flower': ['유현우', '이윤혁', '윤한세', '김찬호'],\n",
              " 'Giant': ['문희경', '유나현', '박정현', '김성연'],\n",
              " 'Happy': ['임양강', '이채현', '이호용', '정은재'],\n",
              " 'Identity': ['굴나라기마데바', '김가은', '안형주', '조용운'],\n",
              " 'Joy': ['제레미게르트', '서은서', '유승희', '성민지'],\n",
              " 'Keras': ['놀웬피지언', '장효정', '문민지', '서민성'],\n",
              " 'Log': ['허군', '신세희', '김진현', '권예진'],\n",
              " 'Math': ['이호연', '김효진', '조찬희', '조강현', '김진재']}"
            ]
          },
          "metadata": {},
          "execution_count": 43
        }
      ]
    },
    {
      "cell_type": "code",
      "source": [
        "##Gs"
      ],
      "metadata": {
        "colab": {
          "base_uri": "https://localhost:8080/"
        },
        "id": "dNG4xCHlwsSq",
        "outputId": "cacccc3f-aa92-4905-b170-ba08b1e5491c"
      },
      "execution_count": null,
      "outputs": [
        {
          "output_type": "execute_result",
          "data": {
            "text/plain": [
              "{'Alpha': ['박도희', '이호용', '이건이', '김지민'],\n",
              " 'Beta': ['문희경', '김효진', '한혜령', '장효정'],\n",
              " 'Captain': ['이주현', '김찬호', '이서정', '김가은'],\n",
              " 'Delta': ['김준원', '조찬희', '서민성', '김진현'],\n",
              " 'Edison': ['김유진', '서은서', '신세희', '김진재'],\n",
              " 'Flower': ['김은서', '박상우', '이윤혁', '조강현'],\n",
              " 'Giant': ['유현우', '윤우성', '이강희', '서진슬'],\n",
              " 'Happy': ['임양강', '이승욱', '정은재', '조용운'],\n",
              " 'Identity': ['허군', '권예진', '성민지', '이채현'],\n",
              " 'Joy': ['이호연', '김성연', '지민경', '문민지'],\n",
              " 'Keras': ['굴나라기마데바', '안형주', '유승희', '고재석'],\n",
              " 'Log': ['놀웬피지언', '박진수', '임혁', '윤한세'],\n",
              " 'Math': ['제레미게르트', '유나현', '지서영', '김희영', '박정현']}"
            ]
          },
          "metadata": {},
          "execution_count": 63
        }
      ]
    },
    {
      "cell_type": "code",
      "source": [
        "def team_gen() :\n",
        "  shuffled_nms1 = np.random.choice(nms1,len(nms1), replace = False )\n",
        "  shuffled_nms2 = np.random.choice(nms2,len(nms2), replace = False )\n",
        "  shuffled_nms3 = np.random.choice(nms3,len(nms3), replace = False )\n",
        "  Gs = {}\n",
        "  tnames = [\"Alpha\", \"Beta\", \"Captain\", \"Delta\", \"Edison\", \"Flower\", \"Giant\", \"Happy\", \"Identity\", \"Joy\", \"Keras\", \"Log\", \"Math\"]\n",
        "  for i in range(13) :\n",
        "    if i < 7 :\n",
        "      Gs[tnames[i]] = [shuffled_nms2[i], *shuffled_nms3[(3*i):(3*(i+1))] ]\n",
        "    elif i < 12 :\n",
        "      Gs[tnames[i]] = [shuffled_nms1[i-7], *shuffled_nms3[(3*i):(3*(i+1))] ]\n",
        "    else : \n",
        "      Gs[tnames[i]] = [shuffled_nms1[i-7], *shuffled_nms3[(3*i):] ]\n",
        "  return(Gs)"
      ],
      "metadata": {
        "id": "jrwDPtnmxo6f"
      },
      "execution_count": 57,
      "outputs": []
    },
    {
      "cell_type": "code",
      "source": [
        "tm1 = team_gen()\n",
        "tm1"
      ],
      "metadata": {
        "colab": {
          "base_uri": "https://localhost:8080/"
        },
        "id": "VBjj8Ay2x12g",
        "outputId": "f9e031c1-8e34-455f-9413-684da39b6d97"
      },
      "execution_count": 59,
      "outputs": [
        {
          "output_type": "execute_result",
          "data": {
            "text/plain": [
              "{'Alpha': ['유현우', '이호용', '이건이', '신세희'],\n",
              " 'Beta': ['문희경', '조용운', '고재석', '서민성'],\n",
              " 'Captain': ['박도희', '지민경', '이채현', '권예진'],\n",
              " 'Delta': ['김유진', '한혜령', '윤우성', '박정현'],\n",
              " 'Edison': ['김은서', '문민지', '서진슬', '김효진'],\n",
              " 'Flower': ['이주현', '성민지', '장효정', '유승희'],\n",
              " 'Giant': ['김준원', '김희영', '이승욱', '조찬희'],\n",
              " 'Happy': ['놀웬피지언', '박진수', '윤한세', '안형주'],\n",
              " 'Identity': ['제레미게르트', '이강희', '유나현', '임혁'],\n",
              " 'Joy': ['이호연', '김찬호', '지서영', '김진현'],\n",
              " 'Keras': ['굴나라기마데바', '이서정', '정은재', '이윤혁'],\n",
              " 'Log': ['허군', '조강현', '김성연', '김지민'],\n",
              " 'Math': ['임양강', '박상우', '서은서', '김진재', '김가은']}"
            ]
          },
          "metadata": {},
          "execution_count": 59
        }
      ]
    },
    {
      "cell_type": "code",
      "source": [
        ""
      ],
      "metadata": {
        "id": "uiRM0MeuWswb"
      },
      "execution_count": null,
      "outputs": []
    },
    {
      "cell_type": "code",
      "source": [
        ""
      ],
      "metadata": {
        "id": "-xN7Zp0kq5V-"
      },
      "execution_count": null,
      "outputs": []
    }
  ]
}